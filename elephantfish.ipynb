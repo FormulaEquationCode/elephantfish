{
 "cells": [
  {
   "cell_type": "code",
   "execution_count": 86,
   "metadata": {
    "collapsed": true,
    "pycharm": {
     "is_executing": false
    }
   },
   "outputs": [
    {
     "name": "stdout",
     "text": [
      "The autoreload extension is already loaded. To reload it, use:\n  %reload_ext autoreload\n"
     ],
     "output_type": "stream"
    }
   ],
   "source": [
    "%load_ext autoreload\n",
    "%autoreload 2\n",
    "from elephantfish import *"
   ]
  },
  {
   "cell_type": "code",
   "execution_count": 87,
   "outputs": [],
   "source": [
    "pos = Position(initial,0)"
   ],
   "metadata": {
    "collapsed": false,
    "pycharm": {
     "name": "#%%\n",
     "is_executing": false
    }
   }
  },
  {
   "cell_type": "code",
   "execution_count": 88,
   "outputs": [
    {
     "name": "stdout",
     "text": [
      "a3a4\nc3c4\ne3e4\ng3g4\ni3i4\nb2b3\nb2b4\nb2b5\nb2b6\nb2b7\nb2c2\nb2d2\nb2e2\nb2f2\nb2g2\nb2b1\nb2a2\nh2h3\nh2h4\nh2h5\nh2h6\nh2h7\nh2i2\nh2h1\nh2g2\nh2f2\nh2e2\nh2d2\nh2c2\na0a1\na0a2\nb0c2\nb0a2\nc0e2\nc0a2\nd0e1\ne0e1\nf0e1\ng0i2\ng0e2\nh0i2\nh0g2\ni0i1\ni0i2\n"
     ],
     "output_type": "stream"
    }
   ],
   "source": [
    "def int2pos(i):\n",
    "    y = 12 - i // 16\n",
    "    x = i % 16 - 3\n",
    "    assert(x >= 0)\n",
    "    return \"abcdefghi\"[x] + str(y)\n",
    "\n",
    "def move2str(move):\n",
    "    f,t = move\n",
    "    return int2pos(f) + int2pos(t)\n",
    "    \n",
    "for one_move in pos.gen_moves():\n",
    "    #print(one_move)\n",
    "    print(move2str(one_move))"
   ],
   "metadata": {
    "collapsed": false,
    "pycharm": {
     "name": "#%%\n",
     "is_executing": false
    }
   }
  },
  {
   "cell_type": "code",
   "execution_count": 89,
   "outputs": [
    {
     "name": "stdout",
     "text": [
      "\n  9 俥傌象士将士象傌俥\n  8 ．．．．．．．．．\n  7 ．砲．．．．．砲．\n  6 卒．卒．卒．卒．卒\n  5 ．．．．．．．．．\n  4 ．．．．．．．．．\n  3 兵．兵．兵．兵．兵\n  2 ．炮．．．．．炮．\n  1 ．．．．．．．．．\n  0 车马相仕帅仕相马车\n    ａｂｃｄｅｆｇｈｉ\n\n\n"
     ],
     "output_type": "stream"
    }
   ],
   "source": [
    "print_pos(pos)\n"
   ],
   "metadata": {
    "collapsed": false,
    "pycharm": {
     "name": "#%%\n",
     "is_executing": false
    }
   }
  },
  {
   "cell_type": "code",
   "execution_count": null,
   "outputs": [],
   "source": [
    "\n"
   ],
   "metadata": {
    "collapsed": false,
    "pycharm": {
     "name": "#%%\n"
    }
   }
  }
 ],
 "metadata": {
  "kernelspec": {
   "name": "python2",
   "language": "python",
   "display_name": "Python 2"
  },
  "language_info": {
   "codemirror_mode": {
    "name": "ipython",
    "version": 2
   },
   "file_extension": ".py",
   "mimetype": "text/x-python",
   "name": "python",
   "nbconvert_exporter": "python",
   "pygments_lexer": "ipython2",
   "version": "2.7.6"
  },
  "pycharm": {
   "stem_cell": {
    "cell_type": "raw",
    "source": [],
    "metadata": {
     "collapsed": false
    }
   }
  }
 },
 "nbformat": 4,
 "nbformat_minor": 0
}