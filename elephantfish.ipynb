{
 "cells": [
  {
   "cell_type": "code",
   "execution_count": 369,
   "metadata": {
    "collapsed": true,
    "pycharm": {
     "is_executing": false
    }
   },
   "outputs": [
    {
     "name": "stdout",
     "text": [
      "The autoreload extension is already loaded. To reload it, use:\n  %reload_ext autoreload\n"
     ],
     "output_type": "stream"
    }
   ],
   "source": [
    "%load_ext autoreload\n",
    "%autoreload 2\n",
    "from elephantfish import *"
   ]
  },
  {
   "cell_type": "code",
   "execution_count": 370,
   "outputs": [],
   "source": [
    "pos = Position(initial,0)"
   ],
   "metadata": {
    "collapsed": false,
    "pycharm": {
     "name": "#%%\n",
     "is_executing": false
    }
   }
  },
  {
   "cell_type": "code",
   "execution_count": 371,
   "outputs": [
    {
     "name": "stdout",
     "text": [
      "('a3a4', (147, 131))\n('c3c4', (149, 133))\n('e3e4', (151, 135))\n('g3g4', (153, 137))\n('i3i4', (155, 139))\n('b2b3', (164, 148))\n('b2b4', (164, 132))\n('b2b5', (164, 116))\n('b2b6', (164, 100))\n('b2b9', (164, 52))\n('b2c2', (164, 165))\n('b2d2', (164, 166))\n('b2e2', (164, 167))\n('b2f2', (164, 168))\n('b2g2', (164, 169))\n('b2b1', (164, 180))\n('b2a2', (164, 163))\n('h2h3', (170, 154))\n('h2h4', (170, 138))\n('h2h5', (170, 122))\n('h2h6', (170, 106))\n('h2h9', (170, 58))\n('h2i2', (170, 171))\n('h2h1', (170, 186))\n('h2g2', (170, 169))\n('h2f2', (170, 168))\n('h2e2', (170, 167))\n('h2d2', (170, 166))\n('h2c2', (170, 165))\n('a0a1', (195, 179))\n('a0a2', (195, 163))\n('b0c2', (196, 165))\n('b0a2', (196, 163))\n('c0e2', (197, 167))\n('c0a2', (197, 163))\n('d0e1', (198, 183))\n('e0e1', (199, 183))\n('f0e1', (200, 183))\n('g0i2', (201, 171))\n('g0e2', (201, 167))\n('h0i2', (202, 171))\n('h0g2', (202, 169))\n('i0i1', (203, 187))\n('i0i2', (203, 171))\n"
     ],
     "output_type": "stream"
    }
   ],
   "source": [
    "def int2pos(i):\n",
    "    y = 12 - i // 16\n",
    "    x = i % 16 - 3\n",
    "    assert(x >= 0)\n",
    "    return \"abcdefghi\"[x] + str(y)\n",
    "\n",
    "def move2str(move):\n",
    "    f,t = move\n",
    "    return int2pos(f) + int2pos(t)\n",
    "    \n",
    "for one_move in pos.gen_moves():\n",
    "    #print(one_move)\n",
    "    print(move2str(one_move), one_move)"
   ],
   "metadata": {
    "collapsed": false,
    "pycharm": {
     "name": "#%%\n",
     "is_executing": false
    }
   }
  },
  {
   "cell_type": "code",
   "execution_count": 372,
   "outputs": [
    {
     "name": "stdout",
     "text": [
      "\n  9 俥傌象士将士象傌俥\n  8 ．．．．．．．．．\n  7 ．砲．．．．．砲．\n  6 卒．卒．卒．卒．卒\n  5 ．．．．．．．．．\n  4 ．．．．．．．．．\n  3 兵．兵．兵．兵．兵\n  2 ．炮．．．．．炮．\n  1 ．．．．．．．．．\n  0 车马相仕帅仕相马车\n    ａｂｃｄｅｆｇｈｉ\n\n\n"
     ],
     "output_type": "stream"
    }
   ],
   "source": [
    "print_pos(pos)\n"
   ],
   "metadata": {
    "collapsed": false,
    "pycharm": {
     "name": "#%%\n",
     "is_executing": false
    }
   }
  },
  {
   "cell_type": "code",
   "execution_count": 373,
   "outputs": [
    {
     "data": {
      "text/plain": "0"
     },
     "metadata": {},
     "output_type": "execute_result",
     "execution_count": 373
    }
   ],
   "source": [
    "pos.score"
   ],
   "metadata": {
    "collapsed": false,
    "pycharm": {
     "name": "#%%\n",
     "is_executing": false
    }
   }
  },
  {
   "cell_type": "code",
   "execution_count": 374,
   "outputs": [
    {
     "data": {
      "text/plain": "5"
     },
     "metadata": {},
     "output_type": "execute_result",
     "execution_count": 374
    }
   ],
   "source": [
    "pos.value((170,167))"
   ],
   "metadata": {
    "collapsed": false,
    "pycharm": {
     "name": "#%%\n",
     "is_executing": false
    }
   }
  },
  {
   "cell_type": "code",
   "execution_count": 375,
   "outputs": [],
   "source": [
    "pos = pos.move((170,167))\n"
   ],
   "metadata": {
    "collapsed": false,
    "pycharm": {
     "name": "#%%\n",
     "is_executing": false
    }
   }
  },
  {
   "cell_type": "code",
   "execution_count": 376,
   "outputs": [
    {
     "name": "stdout",
     "text": [
      "\n  9 俥傌象士将士象傌俥\n  8 ．．．．．．．．．\n  7 ．砲．．．．．砲．\n  6 卒．卒．卒．卒．卒\n  5 ．．．．．．．．．\n  4 ．．．．．．．．．\n  3 兵．兵．兵．兵．兵\n  2 ．炮．．炮．．．．\n  1 ．．．．．．．．．\n  0 车马相仕帅仕相马车\n    ａｂｃｄｅｆｇｈｉ\n\n\n"
     ],
     "output_type": "stream"
    }
   ],
   "source": [
    "print_pos(pos.rotate())\n",
    "\n"
   ],
   "metadata": {
    "collapsed": false,
    "pycharm": {
     "name": "#%%\n",
     "is_executing": false
    }
   }
  },
  {
   "cell_type": "code",
   "execution_count": 377,
   "outputs": [
    {
     "name": "stdout",
     "text": [
      "('a3a4', (147, 131), 0)\n('c3c4', (149, 133), 6)\n('e3e4', (151, 135), 1)\n('g3g4', (153, 137), 6)\n('i3i4', (155, 139), 0)\n('b2b3', (164, 148), 0)\n('b2b4', (164, 132), 0)\n('b2b5', (164, 116), 0)\n('b2b6', (164, 100), 3)\n('b2b9', (164, 52), 89)\n('b2c2', (164, 165), 4)\n('b2d2', (164, 166), 3)\n('b2b1', (164, 180), 1)\n('b2a2', (164, 163), 1)\n('e2e6', (167, 103), 14)\n('e2f2', (167, 168), -2)\n('e2g2', (167, 169), -1)\n('e2h2', (167, 170), -5)\n('e2i2', (167, 171), -4)\n('e2e1', (167, 183), -3)\n('e2d2', (167, 166), -2)\n('e2c2', (167, 165), -1)\n('a0a1', (195, 179), 6)\n('a0a2', (195, 163), 4)\n('b0c2', (196, 165), 9)\n('b0a2', (196, 163), 8)\n('c0a2', (197, 163), -2)\n('d0e1', (198, 183), 3)\n('e0e1', (199, 183), -13)\n('f0e1', (200, 183), 3)\n('g0i2', (201, 171), -2)\n('h0i2', (202, 171), 8)\n('h0g2', (202, 169), 9)\n('i0i1', (203, 187), 6)\n('i0i2', (203, 171), 4)\n"
     ],
     "output_type": "stream"
    }
   ],
   "source": [
    "for one_move in pos.rotate().gen_moves():\n",
    "    #print(one_move)\n",
    "    print(move2str(one_move), one_move, pos.rotate().value(one_move))\n"
   ],
   "metadata": {
    "collapsed": false,
    "pycharm": {
     "name": "#%%\n",
     "is_executing": false
    }
   }
  },
  {
   "cell_type": "code",
   "execution_count": 378,
   "outputs": [
    {
     "data": {
      "text/plain": "'i0i2'"
     },
     "metadata": {},
     "output_type": "execute_result",
     "execution_count": 378
    }
   ],
   "source": [
    "move2str(one_move)\n",
    "\n"
   ],
   "metadata": {
    "collapsed": false,
    "pycharm": {
     "name": "#%%\n",
     "is_executing": false
    }
   }
  },
  {
   "cell_type": "code",
   "execution_count": 379,
   "outputs": [
    {
     "data": {
      "text/plain": "89"
     },
     "metadata": {},
     "output_type": "execute_result",
     "execution_count": 379
    }
   ],
   "source": [
    "pos.rotate().value((164,52))\n"
   ],
   "metadata": {
    "collapsed": false,
    "pycharm": {
     "name": "#%%\n",
     "is_executing": false
    }
   }
  },
  {
   "cell_type": "code",
   "execution_count": 380,
   "outputs": [
    {
     "data": {
      "text/plain": "'i0i2'"
     },
     "metadata": {},
     "output_type": "execute_result",
     "execution_count": 380
    }
   ],
   "source": [
    "move2str(one_move)"
   ],
   "metadata": {
    "collapsed": false,
    "pycharm": {
     "name": "#%%\n",
     "is_executing": false
    }
   }
  },
  {
   "cell_type": "code",
   "execution_count": 381,
   "outputs": [
    {
     "data": {
      "text/plain": "171"
     },
     "metadata": {},
     "output_type": "execute_result",
     "execution_count": 381
    }
   ],
   "source": [
    "parse(\"i2\")"
   ],
   "metadata": {
    "collapsed": false,
    "pycharm": {
     "name": "#%%\n",
     "is_executing": false
    }
   }
  },
  {
   "cell_type": "code",
   "execution_count": 382,
   "outputs": [
    {
     "data": {
      "text/plain": "(203, 171)"
     },
     "metadata": {},
     "output_type": "execute_result",
     "execution_count": 382
    }
   ],
   "source": [
    "one_move"
   ],
   "metadata": {
    "collapsed": false,
    "pycharm": {
     "name": "#%%\n",
     "is_executing": false
    }
   }
  },
  {
   "cell_type": "code",
   "execution_count": 383,
   "outputs": [
    {
     "data": {
      "text/plain": "'i2'"
     },
     "metadata": {},
     "output_type": "execute_result",
     "execution_count": 383
    }
   ],
   "source": [
    "render(171)"
   ],
   "metadata": {
    "collapsed": false,
    "pycharm": {
     "name": "#%%\n",
     "is_executing": false
    }
   }
  },
  {
   "cell_type": "code",
   "execution_count": null,
   "outputs": [],
   "source": [
    "\n"
   ],
   "metadata": {
    "collapsed": false,
    "pycharm": {
     "name": "#%%\n"
    }
   }
  }
 ],
 "metadata": {
  "kernelspec": {
   "name": "python2",
   "language": "python",
   "display_name": "Python 2"
  },
  "language_info": {
   "codemirror_mode": {
    "name": "ipython",
    "version": 2
   },
   "file_extension": ".py",
   "mimetype": "text/x-python",
   "name": "python",
   "nbconvert_exporter": "python",
   "pygments_lexer": "ipython2",
   "version": "2.7.6"
  },
  "pycharm": {
   "stem_cell": {
    "cell_type": "raw",
    "source": [],
    "metadata": {
     "collapsed": false
    }
   }
  }
 },
 "nbformat": 4,
 "nbformat_minor": 0
}